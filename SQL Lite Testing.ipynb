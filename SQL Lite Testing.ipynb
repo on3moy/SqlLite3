{
 "cells": [
  {
   "cell_type": "markdown",
   "metadata": {},
   "source": [
    "# SQLite 3 101\n",
    "SQL Lite comes built in with python"
   ]
  },
  {
   "cell_type": "markdown",
   "metadata": {},
   "source": [
    "<img src='https://i.pinimg.com/originals/b0/87/53/b08753d58f327fe00490bb5cfa7fcf03.gif' width=200>"
   ]
  },
  {
   "cell_type": "markdown",
   "metadata": {},
   "source": [
    "## Why Use a Cursor?\n",
    "1. Row-by-Row Processing: Cursors allow you to fetch and process individual rows from a query result. This can be useful when you need to perform operations on each row, such as calculations or updates, which cannot be efficiently done using set-based operations.  \n",
    "\n",
    "2. Complex Data Manipulation: When performing complex operations that require multiple steps or conditional logic based on the data in each row, cursors provide a way to handle this within the database.  \n",
    "\n",
    "3. Interfacing with Procedural Code: Cursors are often used in procedural database code (such as stored procedures or triggers) where you need to loop through a result set and perform specific actions for each row.  "
   ]
  },
  {
   "cell_type": "code",
   "execution_count": 22,
   "metadata": {},
   "outputs": [],
   "source": [
    "# Import Sql lite library, which is already built into python\n",
    "import sqlite3\n",
    "# Import pandas just to visualize table differently. (Not needed)\n",
    "import pandas as pd"
   ]
  },
  {
   "cell_type": "code",
   "execution_count": 23,
   "metadata": {},
   "outputs": [],
   "source": [
    "# Create a name or use an existing DB name\n",
    "DATABASE = 'sqlite_test_database.db'"
   ]
  },
  {
   "cell_type": "code",
   "execution_count": 24,
   "metadata": {},
   "outputs": [],
   "source": [
    "# Connect to your Database or create one if it does not exist.\n",
    "conn = sqlite3.connect(DATABASE)"
   ]
  },
  {
   "cell_type": "code",
   "execution_count": 25,
   "metadata": {},
   "outputs": [],
   "source": [
    "# Create a cursor object, this will allow you to make SQL commands\n",
    "cursor = conn.cursor()"
   ]
  },
  {
   "cell_type": "code",
   "execution_count": 26,
   "metadata": {},
   "outputs": [
    {
     "data": {
      "text/plain": [
       "<sqlite3.Cursor at 0x22aaacb3040>"
      ]
     },
     "execution_count": 26,
     "metadata": {},
     "output_type": "execute_result"
    }
   ],
   "source": [
    "# Create a table\n",
    "cursor.execute('''\n",
    "    CREATE TABLE IF NOT EXISTS users (\n",
    "    id INTEGER PRIMARY KEY\n",
    "    ,name TEXT\n",
    "    ,age INTEGER         \n",
    "    )\n",
    "''')"
   ]
  },
  {
   "cell_type": "code",
   "execution_count": 27,
   "metadata": {},
   "outputs": [
    {
     "data": {
      "text/plain": [
       "<sqlite3.Cursor at 0x22aaacb3040>"
      ]
     },
     "execution_count": 27,
     "metadata": {},
     "output_type": "execute_result"
    }
   ],
   "source": [
    "cursor.execute('''\n",
    "INSERT INTO users (name, age) \n",
    "VALUES\n",
    "    ('moy',13)\n",
    "    ,('steph', 10)\n",
    "''')"
   ]
  },
  {
   "cell_type": "code",
   "execution_count": 28,
   "metadata": {},
   "outputs": [],
   "source": [
    "# Commit changes, if you do not do this, any changes will not be saved when you close the connection.\n",
    "conn.commit()"
   ]
  },
  {
   "cell_type": "code",
   "execution_count": 29,
   "metadata": {},
   "outputs": [
    {
     "data": {
      "text/plain": [
       "<sqlite3.Cursor at 0x22aaacb3040>"
      ]
     },
     "execution_count": 29,
     "metadata": {},
     "output_type": "execute_result"
    }
   ],
   "source": [
    "# Executing the query stores the output into memory\n",
    "cursor.execute('SELECT * FROM users')"
   ]
  },
  {
   "cell_type": "code",
   "execution_count": 30,
   "metadata": {},
   "outputs": [
    {
     "data": {
      "text/plain": [
       "[(1, 'moy', 13), (2, 'steph', 10)]"
      ]
     },
     "execution_count": 30,
     "metadata": {},
     "output_type": "execute_result"
    }
   ],
   "source": [
    "# Grab the query and print using fetchall. Each row will be shown as a tuple within a list.\n",
    "cursor.execute('SELECT * FROM users').fetchall()"
   ]
  },
  {
   "cell_type": "code",
   "execution_count": 31,
   "metadata": {},
   "outputs": [],
   "source": [
    "# Assign all rows to a variable\n",
    "rows = cursor.execute('SELECT * FROM users').fetchall()"
   ]
  },
  {
   "cell_type": "code",
   "execution_count": 32,
   "metadata": {},
   "outputs": [
    {
     "name": "stdout",
     "output_type": "stream",
     "text": [
      "(1, 'moy', 13)\n",
      "(2, 'steph', 10)\n"
     ]
    }
   ],
   "source": [
    "# Print out each row\n",
    "for row in rows:\n",
    "    print(row)"
   ]
  },
  {
   "cell_type": "code",
   "execution_count": 33,
   "metadata": {},
   "outputs": [
    {
     "data": {
      "text/plain": [
       "[('table',\n",
       "  'users',\n",
       "  'users',\n",
       "  2,\n",
       "  'CREATE TABLE users (\\n    id INTEGER PRIMARY KEY\\n    ,name TEXT\\n    ,age INTEGER         \\n    )')]"
      ]
     },
     "execution_count": 33,
     "metadata": {},
     "output_type": "execute_result"
    }
   ],
   "source": [
    "# Get a list of all tables\n",
    "cursor.execute('''SELECT * FROM sqlite_master''').fetchall()"
   ]
  },
  {
   "cell_type": "code",
   "execution_count": 34,
   "metadata": {},
   "outputs": [
    {
     "data": {
      "text/plain": [
       "['type', 'name', 'tbl_name', 'rootpage', 'sql']"
      ]
     },
     "execution_count": 34,
     "metadata": {},
     "output_type": "execute_result"
    }
   ],
   "source": [
    "# Get column header information\n",
    "[x[0] for x in cursor.description]"
   ]
  },
  {
   "cell_type": "code",
   "execution_count": 35,
   "metadata": {},
   "outputs": [
    {
     "data": {
      "text/html": [
       "<div>\n",
       "<style scoped>\n",
       "    .dataframe tbody tr th:only-of-type {\n",
       "        vertical-align: middle;\n",
       "    }\n",
       "\n",
       "    .dataframe tbody tr th {\n",
       "        vertical-align: top;\n",
       "    }\n",
       "\n",
       "    .dataframe thead th {\n",
       "        text-align: right;\n",
       "    }\n",
       "</style>\n",
       "<table border=\"1\" class=\"dataframe\">\n",
       "  <thead>\n",
       "    <tr style=\"text-align: right;\">\n",
       "      <th></th>\n",
       "      <th>type</th>\n",
       "      <th>name</th>\n",
       "      <th>tbl_name</th>\n",
       "      <th>rootpage</th>\n",
       "      <th>sql</th>\n",
       "    </tr>\n",
       "  </thead>\n",
       "  <tbody>\n",
       "    <tr>\n",
       "      <th>0</th>\n",
       "      <td>table</td>\n",
       "      <td>users</td>\n",
       "      <td>users</td>\n",
       "      <td>2</td>\n",
       "      <td>CREATE TABLE users (\\n    id INTEGER PRIMARY K...</td>\n",
       "    </tr>\n",
       "  </tbody>\n",
       "</table>\n",
       "</div>"
      ],
      "text/plain": [
       "    type   name tbl_name  rootpage  \\\n",
       "0  table  users    users         2   \n",
       "\n",
       "                                                 sql  \n",
       "0  CREATE TABLE users (\\n    id INTEGER PRIMARY K...  "
      ]
     },
     "execution_count": 35,
     "metadata": {},
     "output_type": "execute_result"
    }
   ],
   "source": [
    "# Creat pandas dataframe to see sqlite master schema information\n",
    "data = cursor.execute('''SELECT * FROM sqlite_master''').fetchall()\n",
    "columns = [x[0] for x in cursor.description]\n",
    "pd.DataFrame(data=data, columns=columns)"
   ]
  },
  {
   "cell_type": "code",
   "execution_count": 36,
   "metadata": {},
   "outputs": [
    {
     "data": {
      "text/plain": [
       "[(1, 'moy', 13), (2, 'steph', 10)]"
      ]
     },
     "execution_count": 36,
     "metadata": {},
     "output_type": "execute_result"
    }
   ],
   "source": [
    "# Query Users Table\n",
    "cursor.execute('''SELECT * FROM users''').fetchall()"
   ]
  },
  {
   "cell_type": "code",
   "execution_count": 37,
   "metadata": {},
   "outputs": [
    {
     "data": {
      "text/plain": [
       "['id', 'name', 'age']"
      ]
     },
     "execution_count": 37,
     "metadata": {},
     "output_type": "execute_result"
    }
   ],
   "source": [
    "# Get user table information\n",
    "# Notice how cursor variable data changes to your last query.\n",
    "[x[0] for x in cursor.description]"
   ]
  },
  {
   "cell_type": "code",
   "execution_count": 38,
   "metadata": {},
   "outputs": [
    {
     "data": {
      "text/plain": [
       "<sqlite3.Cursor at 0x22aaacb3040>"
      ]
     },
     "execution_count": 38,
     "metadata": {},
     "output_type": "execute_result"
    }
   ],
   "source": [
    "# Update the table and modify a user\n",
    "cursor.execute('''\n",
    "    UPDATE users\n",
    "    SET age = 65\n",
    "    WHERE name = 'moy'\n",
    "''')"
   ]
  },
  {
   "cell_type": "code",
   "execution_count": 39,
   "metadata": {},
   "outputs": [
    {
     "data": {
      "text/html": [
       "<div>\n",
       "<style scoped>\n",
       "    .dataframe tbody tr th:only-of-type {\n",
       "        vertical-align: middle;\n",
       "    }\n",
       "\n",
       "    .dataframe tbody tr th {\n",
       "        vertical-align: top;\n",
       "    }\n",
       "\n",
       "    .dataframe thead th {\n",
       "        text-align: right;\n",
       "    }\n",
       "</style>\n",
       "<table border=\"1\" class=\"dataframe\">\n",
       "  <thead>\n",
       "    <tr style=\"text-align: right;\">\n",
       "      <th></th>\n",
       "      <th>id</th>\n",
       "      <th>name</th>\n",
       "      <th>age</th>\n",
       "    </tr>\n",
       "  </thead>\n",
       "  <tbody>\n",
       "    <tr>\n",
       "      <th>0</th>\n",
       "      <td>1</td>\n",
       "      <td>moy</td>\n",
       "      <td>65</td>\n",
       "    </tr>\n",
       "    <tr>\n",
       "      <th>1</th>\n",
       "      <td>2</td>\n",
       "      <td>steph</td>\n",
       "      <td>10</td>\n",
       "    </tr>\n",
       "  </tbody>\n",
       "</table>\n",
       "</div>"
      ],
      "text/plain": [
       "   id   name  age\n",
       "0   1    moy   65\n",
       "1   2  steph   10"
      ]
     },
     "execution_count": 39,
     "metadata": {},
     "output_type": "execute_result"
    }
   ],
   "source": [
    "# Check results\n",
    "user_data = cursor.execute('SELECT * FROM users').fetchall()\n",
    "user_header = [description[0] for description in cursor.description]\n",
    "df = pd.DataFrame(data=user_data, columns=user_header)\n",
    "df"
   ]
  },
  {
   "cell_type": "code",
   "execution_count": 40,
   "metadata": {},
   "outputs": [
    {
     "data": {
      "text/plain": [
       "<sqlite3.Cursor at 0x22aaacb3040>"
      ]
     },
     "execution_count": 40,
     "metadata": {},
     "output_type": "execute_result"
    }
   ],
   "source": [
    "# Drop the table\n",
    "cursor.execute('DROP TABLE users')"
   ]
  },
  {
   "cell_type": "code",
   "execution_count": 41,
   "metadata": {},
   "outputs": [],
   "source": [
    "# Commit changes to ensure they are made.\n",
    "conn.commit()"
   ]
  },
  {
   "cell_type": "code",
   "execution_count": 42,
   "metadata": {},
   "outputs": [],
   "source": [
    "conn.close()"
   ]
  },
  {
   "cell_type": "markdown",
   "metadata": {},
   "source": [
    "# A better strategy\n",
    "Use a with statement to close the connection"
   ]
  },
  {
   "cell_type": "code",
   "execution_count": 43,
   "metadata": {},
   "outputs": [
    {
     "name": "stdout",
     "output_type": "stream",
     "text": [
      "[(1, 'moy', 13), (2, 'steph', 10)]\n"
     ]
    }
   ],
   "source": [
    "with sqlite3.connect(DATABASE) as conn:\n",
    "    # Create cursor instance\n",
    "    cursor = conn.cursor()\n",
    "\n",
    "    # Create a table\n",
    "    cursor.execute('''\n",
    "        CREATE TABLE IF NOT EXISTS users (\n",
    "        id INTEGER PRIMARY KEY\n",
    "        ,name TEXT\n",
    "        ,age INTEGER         \n",
    "        )\n",
    "    ''')\n",
    "\n",
    "    # Insert values into table\n",
    "    cursor.execute('''\n",
    "        INSERT INTO users (name, age) \n",
    "        VALUES\n",
    "            ('moy',13)\n",
    "            ,('steph', 10)\n",
    "    ''')\n",
    "\n",
    "    # Print all users\n",
    "    print(cursor.execute('SELECT * FROM users').fetchall())\n",
    "\n",
    "    # Drop the table\n",
    "    cursor.execute('DROP TABLE users')\n",
    "\n",
    "    # Commit changes to ensure they are made.\n",
    "    conn.commit()"
   ]
  }
 ],
 "metadata": {
  "kernelspec": {
   "display_name": ".venv",
   "language": "python",
   "name": "python3"
  },
  "language_info": {
   "codemirror_mode": {
    "name": "ipython",
    "version": 3
   },
   "file_extension": ".py",
   "mimetype": "text/x-python",
   "name": "python",
   "nbconvert_exporter": "python",
   "pygments_lexer": "ipython3",
   "version": "3.12.5"
  }
 },
 "nbformat": 4,
 "nbformat_minor": 2
}
